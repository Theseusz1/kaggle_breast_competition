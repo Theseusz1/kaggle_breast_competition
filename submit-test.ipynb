{
 "cells": [
  {
   "cell_type": "code",
   "execution_count": null,
   "metadata": {
    "execution": {
     "iopub.execute_input": "2023-02-19T02:02:43.524060Z",
     "iopub.status.busy": "2023-02-19T02:02:43.523512Z",
     "iopub.status.idle": "2023-02-19T02:04:45.778523Z",
     "shell.execute_reply": "2023-02-19T02:04:45.777294Z",
     "shell.execute_reply.started": "2023-02-19T02:02:43.523974Z"
    },
    "scrolled": true
   },
   "outputs": [],
   "source": [
    "try:\n",
    "    import timm\n",
    "except:\n",
    "    !pip install /kaggle/input/notebook937eeb7d5c/timm-0.6.12-py3-none-any.whl\n",
    "try:\n",
    "    import gdcm\n",
    "except:\n",
    "    !pip install /kaggle/input/rsna-2022-whl/python_gdcm-3.0.15-cp37-cp37m-manylinux_2_17_x86_64.manylinux2014_x86_64.whl\n",
    "try:\n",
    "    import pylibjpeg\n",
    "except:\n",
    "    !pip install /kaggle/input/rsna-2022-whl/{pydicom-2.3.0-py3-none-any.whl,pylibjpeg-1.4.0-py3-none-any.whl,python_gdcm-3.0.15-cp37-cp37m-manylinux_2_17_x86_64.manylinux2014_x86_64.whl}\n",
    "!pip install -q /kaggle/input/rsna-bcd-whl-ds/dicomsdl-0.109.1-cp37-cp37m-manylinux_2_12_x86_64.manylinux2010_x86_64.whl"
   ]
  },
  {
   "cell_type": "code",
   "execution_count": null,
   "metadata": {
    "execution": {
     "iopub.execute_input": "2023-02-19T02:04:45.782057Z",
     "iopub.status.busy": "2023-02-19T02:04:45.781639Z",
     "iopub.status.idle": "2023-02-19T02:04:50.035125Z",
     "shell.execute_reply": "2023-02-19T02:04:50.034011Z",
     "shell.execute_reply.started": "2023-02-19T02:04:45.782014Z"
    }
   },
   "outputs": [],
   "source": [
    "import gc\n",
    "import torch\n",
    "import torch.nn as nn\n",
    "from torch.nn import functional as F\n",
    "from PIL import Image\n",
    "import pandas as pd\n",
    "import numpy as np\n",
    "from torch.utils.data import Dataset, DataLoader, TensorDataset\n",
    "from torchvision import transforms\n",
    "from torch.optim.lr_scheduler import OneCycleLR\n",
    "from sklearn.model_selection import GroupKFold \n",
    "from sklearn.metrics import f1_score,accuracy_score\n",
    "from sklearn.preprocessing import LabelEncoder\n",
    "from PIL import Image\n",
    "import os\n",
    "import matplotlib.pyplot as plt\n",
    "import torchvision.models as models\n",
    "from tqdm import tqdm\n",
    "import glob\n",
    "import shutil\n",
    "import timm\n",
    "import albumentations as A\n",
    "from albumentations.pytorch.transforms import ToTensorV2\n",
    "import cv2\n",
    "import dicomsdl\n",
    "from joblib import Parallel, delayed\n",
    "import random\n",
    "import warnings\n",
    "warnings.filterwarnings(\"ignore\")"
   ]
  },
  {
   "cell_type": "code",
   "execution_count": null,
   "metadata": {
    "execution": {
     "iopub.execute_input": "2023-02-19T02:04:50.037542Z",
     "iopub.status.busy": "2023-02-19T02:04:50.036934Z",
     "iopub.status.idle": "2023-02-19T02:04:50.048674Z",
     "shell.execute_reply": "2023-02-19T02:04:50.047707Z",
     "shell.execute_reply.started": "2023-02-19T02:04:50.037502Z"
    }
   },
   "outputs": [],
   "source": [
    "test_images = glob.glob(\"/kaggle/input/rsna-breast-cancer-detection/test_images/*/*.dcm\")"
   ]
  },
  {
   "cell_type": "code",
   "execution_count": null,
   "metadata": {
    "execution": {
     "iopub.execute_input": "2023-02-19T02:04:50.052417Z",
     "iopub.status.busy": "2023-02-19T02:04:50.051728Z",
     "iopub.status.idle": "2023-02-19T02:04:50.062277Z",
     "shell.execute_reply": "2023-02-19T02:04:50.060836Z",
     "shell.execute_reply.started": "2023-02-19T02:04:50.052380Z"
    },
    "scrolled": true
   },
   "outputs": [],
   "source": [
    "test_images"
   ]
  },
  {
   "cell_type": "code",
   "execution_count": null,
   "metadata": {
    "execution": {
     "iopub.execute_input": "2023-02-19T02:04:50.064316Z",
     "iopub.status.busy": "2023-02-19T02:04:50.063945Z",
     "iopub.status.idle": "2023-02-19T02:04:50.071547Z",
     "shell.execute_reply": "2023-02-19T02:04:50.070508Z",
     "shell.execute_reply.started": "2023-02-19T02:04:50.064280Z"
    }
   },
   "outputs": [],
   "source": [
    "save_path = \"/kaggle/temp/\"\n",
    "INPUT_SIZE = 1280\n",
    "DEVICE = 'cuda'\n",
    "os.makedirs(save_path, exist_ok = True)"
   ]
  },
  {
   "cell_type": "code",
   "execution_count": null,
   "metadata": {
    "execution": {
     "iopub.execute_input": "2023-02-19T02:04:50.073528Z",
     "iopub.status.busy": "2023-02-19T02:04:50.072973Z",
     "iopub.status.idle": "2023-02-19T02:04:50.082590Z",
     "shell.execute_reply": "2023-02-19T02:04:50.081353Z",
     "shell.execute_reply.started": "2023-02-19T02:04:50.073491Z"
    },
    "scrolled": true
   },
   "outputs": [],
   "source": [
    "os.listdir(save_path)"
   ]
  },
  {
   "cell_type": "code",
   "execution_count": null,
   "metadata": {
    "execution": {
     "iopub.execute_input": "2023-02-19T02:04:50.084834Z",
     "iopub.status.busy": "2023-02-19T02:04:50.084388Z",
     "iopub.status.idle": "2023-02-19T02:04:50.109543Z",
     "shell.execute_reply": "2023-02-19T02:04:50.108516Z",
     "shell.execute_reply.started": "2023-02-19T02:04:50.084799Z"
    },
    "scrolled": true
   },
   "outputs": [],
   "source": [
    "df = pd.read_csv('/kaggle/input/rsna-breast-cancer-detection/test.csv')\n",
    "df"
   ]
  },
  {
   "cell_type": "code",
   "execution_count": null,
   "metadata": {
    "execution": {
     "iopub.execute_input": "2023-02-19T02:04:50.111683Z",
     "iopub.status.busy": "2023-02-19T02:04:50.111175Z",
     "iopub.status.idle": "2023-02-19T02:04:50.119707Z",
     "shell.execute_reply": "2023-02-19T02:04:50.118760Z",
     "shell.execute_reply.started": "2023-02-19T02:04:50.111643Z"
    }
   },
   "outputs": [],
   "source": [
    "'''def load_image_dicomsdl(img_path):\n",
    "    dataset = dicomsdl.open(img_path)\n",
    "    img = dataset.pixelData()\n",
    "\n",
    "    try:\n",
    "            # Load only the variables we need\n",
    "            center = dataset[\"WindowCenter\"]\n",
    "            width = dataset[\"WindowWidth\"]\n",
    "            bits_stored = dataset[\"BitsStored\"]\n",
    "            voi_lut_function = dataset[\"VOILUTFunction\"]\n",
    "\n",
    "            # For sigmoid it's a list, otherwise a single value\n",
    "            if isinstance(center, list):\n",
    "                center = center[0]\n",
    "            if isinstance(width, list):\n",
    "                width = width[0]\n",
    "\n",
    "            # Set y_min, max & range\n",
    "            y_min = 0\n",
    "            y_max = float(2**bits_stored - 1)\n",
    "            y_range = y_max\n",
    "\n",
    "            # Function with default LINEAR (so for Nan, it will use linear)\n",
    "            if voi_lut_function == \"SIGMOID\":\n",
    "                img = y_range / (1 + np.exp(-4 * (img - center) / width)) + y_min\n",
    "            else:\n",
    "                # Checks width for < 1 (in our case not necessary, always >= 750)\n",
    "                center -= 0.5\n",
    "                width -= 1\n",
    "\n",
    "                below = img <= (center - width / 2)\n",
    "                above = img > (center + width / 2)\n",
    "                between = np.logical_and(~below, ~above)\n",
    "\n",
    "                img[below] = y_min\n",
    "                img[above] = y_max\n",
    "                if between.any():\n",
    "                    img[between] = (\n",
    "                        ((img[between] - center) / width + 0.5) * y_range + y_min\n",
    "                    )\n",
    "    except Exception as e:\n",
    "#         dataset = dicoml.open(img_path)\n",
    "        img = dataset.pixelData()\n",
    "\n",
    "\n",
    "    img = (img - img.min()) / (img.max() - img.min())\n",
    "\n",
    "    if dataset[\"PhotometricInterpretation\"] == \"MONOCHROME1\":\n",
    "        img = 1 - img\n",
    "\n",
    "    img = (img * 255).astype(np.uint8)\n",
    "\n",
    "    return img'''"
   ]
  },
  {
   "cell_type": "code",
   "execution_count": null,
   "metadata": {
    "execution": {
     "iopub.execute_input": "2023-02-19T02:04:50.122350Z",
     "iopub.status.busy": "2023-02-19T02:04:50.121109Z",
     "iopub.status.idle": "2023-02-19T02:04:50.132001Z",
     "shell.execute_reply": "2023-02-19T02:04:50.131138Z",
     "shell.execute_reply.started": "2023-02-19T02:04:50.122312Z"
    }
   },
   "outputs": [],
   "source": [
    "def img2roi(img):\n",
    "    # Binarize the image\n",
    "    bin_img = cv2.threshold(img, 20, 255, cv2.THRESH_BINARY)[1]\n",
    "\n",
    "    # Make contours around the binarized image, keep only the largest contour\n",
    "    contours, _ = cv2.findContours(bin_img, cv2.RETR_EXTERNAL, cv2.CHAIN_APPROX_NONE)\n",
    "    contour = max(contours, key=cv2.contourArea)\n",
    "\n",
    "    # Find ROI from largest contour\n",
    "    ys = contour.squeeze()[:, 0]\n",
    "    xs = contour.squeeze()[:, 1]\n",
    "    roi =  img[np.min(xs):np.max(xs), np.min(ys):np.max(ys)]\n",
    "    \n",
    "    return roi"
   ]
  },
  {
   "cell_type": "code",
   "execution_count": null,
   "metadata": {
    "execution": {
     "iopub.execute_input": "2023-02-19T02:04:50.137402Z",
     "iopub.status.busy": "2023-02-19T02:04:50.136482Z",
     "iopub.status.idle": "2023-02-19T02:04:50.144821Z",
     "shell.execute_reply": "2023-02-19T02:04:50.144135Z",
     "shell.execute_reply.started": "2023-02-19T02:04:50.137367Z"
    }
   },
   "outputs": [],
   "source": [
    "def process(path, size):\n",
    "    patient = path.split('/')[-2]\n",
    "    image = path.split('/')[-1][:-4]\n",
    "    dicom = dicomsdl.open(path)\n",
    "    img = dicom.pixelData(storedvalue=False)\n",
    "    img = (img - img.min()) / (img.max()-img.min())\n",
    "    if dicom.PhotometricInterpretation == \"MONOCHROME1\":\n",
    "        img = 1.0- img\n",
    "    img = (img*255).astype(np.uint8)\n",
    "    img = img2roi(img)\n",
    "    final_img = Image.fromarray(img)\n",
    "    final_img = final_img.resize((int(INPUT_SIZE/2),int(INPUT_SIZE)),Image.Resampling.LANCZOS)\n",
    "    final_img.save(save_path+f\"{patient}_{image}.png\")"
   ]
  },
  {
   "cell_type": "code",
   "execution_count": null,
   "metadata": {
    "execution": {
     "iopub.execute_input": "2023-02-19T02:04:50.146866Z",
     "iopub.status.busy": "2023-02-19T02:04:50.146024Z",
     "iopub.status.idle": "2023-02-19T02:04:50.155965Z",
     "shell.execute_reply": "2023-02-19T02:04:50.154840Z",
     "shell.execute_reply.started": "2023-02-19T02:04:50.146832Z"
    }
   },
   "outputs": [],
   "source": [
    "'''def process(path, size):\n",
    "    patient = path.split('/')[-2]\n",
    "    image = path.split('/')[-1][:-4]\n",
    "    img = load_image_dicomsdl(path)\n",
    "    final_img = Image.fromarray(img)\n",
    "    final_img = final_img.resize((int(INPUT_SIZE/2),int(INPUT_SIZE)),Image.Resampling.LANCZOS)\n",
    "    final_img.save(save_path+f\"{patient}_{image}.png\")'''"
   ]
  },
  {
   "cell_type": "code",
   "execution_count": null,
   "metadata": {
    "execution": {
     "iopub.execute_input": "2023-02-19T02:04:50.157942Z",
     "iopub.status.busy": "2023-02-19T02:04:50.157495Z",
     "iopub.status.idle": "2023-02-19T02:04:53.555585Z",
     "shell.execute_reply": "2023-02-19T02:04:53.553639Z",
     "shell.execute_reply.started": "2023-02-19T02:04:50.157906Z"
    },
    "scrolled": true
   },
   "outputs": [],
   "source": [
    "_ = Parallel(n_jobs=4)(\n",
    "    delayed(process)(uid, size=INPUT_SIZE)\n",
    "    for uid in tqdm(test_images)\n",
    ")"
   ]
  },
  {
   "cell_type": "code",
   "execution_count": null,
   "metadata": {
    "execution": {
     "iopub.execute_input": "2023-02-19T02:04:53.563440Z",
     "iopub.status.busy": "2023-02-19T02:04:53.560800Z",
     "iopub.status.idle": "2023-02-19T02:04:53.575184Z",
     "shell.execute_reply": "2023-02-19T02:04:53.574010Z",
     "shell.execute_reply.started": "2023-02-19T02:04:53.563389Z"
    }
   },
   "outputs": [],
   "source": [
    "os.listdir(save_path)"
   ]
  },
  {
   "cell_type": "code",
   "execution_count": null,
   "metadata": {
    "execution": {
     "iopub.execute_input": "2023-02-19T02:04:53.579269Z",
     "iopub.status.busy": "2023-02-19T02:04:53.578545Z",
     "iopub.status.idle": "2023-02-19T02:04:53.587097Z",
     "shell.execute_reply": "2023-02-19T02:04:53.586024Z",
     "shell.execute_reply.started": "2023-02-19T02:04:53.579225Z"
    }
   },
   "outputs": [],
   "source": [
    "'''from matplotlib import pyplot as plt\n",
    "import cv2\n",
    "fig = plt.figure(figsize = (10,10))\n",
    "plt.subplot(221)\n",
    "img1 = cv2.imread(save_path+'10008_361203119.png')\n",
    "img1 = cv2.cvtColor(img1, cv2.COLOR_BGR2RGB)\n",
    "plt.imshow(img1)\n",
    "plt.subplot(222)\n",
    "img2 = cv2.imread(save_path+'10008_736471439.png')\n",
    "img2 = cv2.cvtColor(img2, cv2.COLOR_BGR2RGB)\n",
    "plt.imshow(img2)\n",
    "plt.subplot(223)\n",
    "img3 = cv2.imread(save_path+'10008_1591370361.png')\n",
    "img3 = cv2.cvtColor(img3, cv2.COLOR_BGR2RGB)\n",
    "plt.imshow(img3)\n",
    "plt.subplot(224)\n",
    "img4 = cv2.imread(save_path+'10008_68070693.png')\n",
    "img4 = cv2.cvtColor(img4, cv2.COLOR_BGR2RGB)\n",
    "plt.imshow(img4)\n",
    "plt.show()'''"
   ]
  },
  {
   "cell_type": "code",
   "execution_count": null,
   "metadata": {
    "execution": {
     "iopub.execute_input": "2023-02-19T02:04:53.589586Z",
     "iopub.status.busy": "2023-02-19T02:04:53.588828Z",
     "iopub.status.idle": "2023-02-19T02:04:53.599026Z",
     "shell.execute_reply": "2023-02-19T02:04:53.598357Z",
     "shell.execute_reply.started": "2023-02-19T02:04:53.589534Z"
    }
   },
   "outputs": [],
   "source": [
    "'''import torchvision\n",
    "\n",
    "def get_transforms(aug=False):\n",
    "\n",
    "    def transforms(img):\n",
    "        img = img.convert('RGB')#.resize((512, 512))\n",
    "        if aug:\n",
    "            tfm = [\n",
    "                torchvision.transforms.RandomHorizontalFlip(0.5),\n",
    "                torchvision.transforms.RandomRotation(degrees=(-5, 5)), \n",
    "                torchvision.transforms.RandomResizedCrop((1024, 512), scale=(0.8, 1), ratio=(0.45, 0.55)) \n",
    "            ]\n",
    "        else:\n",
    "            tfm = [\n",
    "                torchvision.transforms.RandomHorizontalFlip(0.5),\n",
    "                torchvision.transforms.Resize((1024, 512))\n",
    "            ]\n",
    "        img = torchvision.transforms.Compose(tfm + [            \n",
    "            torchvision.transforms.ToTensor(),\n",
    "            torchvision.transforms.Normalize(mean=0.2179, std=0.0529),\n",
    "            \n",
    "        ])(img)\n",
    "        return img\n",
    "\n",
    "    return lambda img: transforms(img)'''\n"
   ]
  },
  {
   "cell_type": "code",
   "execution_count": null,
   "metadata": {
    "execution": {
     "iopub.execute_input": "2023-02-19T02:04:53.601547Z",
     "iopub.status.busy": "2023-02-19T02:04:53.600659Z",
     "iopub.status.idle": "2023-02-19T02:04:53.608692Z",
     "shell.execute_reply": "2023-02-19T02:04:53.607827Z",
     "shell.execute_reply.started": "2023-02-19T02:04:53.601472Z"
    }
   },
   "outputs": [],
   "source": [
    "from albumentations.pytorch.transforms import ToTensorV2\n",
    "aug_resize_norm = A.Compose([\n",
    "    A.Resize(INPUT_SIZE, INPUT_SIZE/2),\n",
    "    A.Normalize(),\n",
    "    ToTensorV2(),\n",
    "])"
   ]
  },
  {
   "cell_type": "code",
   "execution_count": null,
   "metadata": {
    "execution": {
     "iopub.execute_input": "2023-02-19T02:04:53.610846Z",
     "iopub.status.busy": "2023-02-19T02:04:53.610104Z",
     "iopub.status.idle": "2023-02-19T02:04:53.619542Z",
     "shell.execute_reply": "2023-02-19T02:04:53.618610Z",
     "shell.execute_reply.started": "2023-02-19T02:04:53.610810Z"
    }
   },
   "outputs": [],
   "source": [
    "import cv2\n",
    "class BreastCancerDataSet(torch.utils.data.Dataset):\n",
    "    def __init__(self, df, path, transforms=None):\n",
    "        super().__init__()\n",
    "        self.df = df\n",
    "        self.path = path\n",
    "        self.transforms = transforms\n",
    "\n",
    "    def __getitem__(self, i):\n",
    "\n",
    "        path = f'{self.path}/{self.df.iloc[i].patient_id}_{self.df.iloc[i].image_id}.png'\n",
    "        try:\n",
    "            #img = Image.open(path).convert('RGB')\n",
    "            img = cv2.imread(path)\n",
    "        except Exception as ex:\n",
    "            print(path, ex)\n",
    "            return None\n",
    "\n",
    "        if self.transforms is not None:\n",
    "            #img = self.transforms(img)\n",
    "            img = self.transforms(image=img)['image']\n",
    "        return img\n",
    "\n",
    "    def __len__(self):\n",
    "        return len(self.df)"
   ]
  },
  {
   "cell_type": "code",
   "execution_count": null,
   "metadata": {
    "execution": {
     "iopub.execute_input": "2023-02-19T02:04:53.622805Z",
     "iopub.status.busy": "2023-02-19T02:04:53.621918Z",
     "iopub.status.idle": "2023-02-19T02:04:53.635434Z",
     "shell.execute_reply": "2023-02-19T02:04:53.634423Z",
     "shell.execute_reply.started": "2023-02-19T02:04:53.622768Z"
    }
   },
   "outputs": [],
   "source": [
    "'''from PIL import Image\n",
    "class BreastCancerDataSet(torch.utils.data.Dataset):\n",
    "    def __init__(self, df, path, transforms=None):\n",
    "        super().__init__()\n",
    "        self.df = df\n",
    "        self.path = path\n",
    "        self.transforms = transforms\n",
    "\n",
    "    def __getitem__(self, i):\n",
    "\n",
    "        path = f'{self.path}/{self.df.iloc[i].patient_id}_{self.df.iloc[i].image_id}.png'\n",
    "        try:\n",
    "            img = Image.open(path).convert('RGB')\n",
    "        except Exception as ex:\n",
    "            print(path, ex)\n",
    "            return None\n",
    "\n",
    "        if self.transforms is not None:\n",
    "            img = self.transforms(img)\n",
    "\n",
    "\n",
    "        return img\n",
    "\n",
    "    def __len__(self):\n",
    "        return len(self.df)'''"
   ]
  },
  {
   "cell_type": "code",
   "execution_count": null,
   "metadata": {
    "execution": {
     "iopub.execute_input": "2023-02-19T02:04:53.637631Z",
     "iopub.status.busy": "2023-02-19T02:04:53.636463Z",
     "iopub.status.idle": "2023-02-19T02:04:53.644886Z",
     "shell.execute_reply": "2023-02-19T02:04:53.644008Z",
     "shell.execute_reply.started": "2023-02-19T02:04:53.637594Z"
    }
   },
   "outputs": [],
   "source": [
    "aux_classes = [2,2,6,2,2,2,4,5,2,10,10]"
   ]
  },
  {
   "cell_type": "code",
   "execution_count": null,
   "metadata": {
    "execution": {
     "iopub.execute_input": "2023-02-19T02:04:53.646973Z",
     "iopub.status.busy": "2023-02-19T02:04:53.646543Z",
     "iopub.status.idle": "2023-02-19T02:04:53.658000Z",
     "shell.execute_reply": "2023-02-19T02:04:53.656607Z",
     "shell.execute_reply.started": "2023-02-19T02:04:53.646938Z"
    }
   },
   "outputs": [],
   "source": [
    "class BreastCancerModel(torch.nn.Module):\n",
    "    def __init__(self, aux_classes, model_type, dropout=0.):\n",
    "        super().__init__()\n",
    "        self.model = timm.create_model(model_type, pretrained=False, drop_rate=dropout)\n",
    "\n",
    "        self.backbone_dim = self.model(torch.randn(1, 3, 1280, 640)).shape[-1]\n",
    "\n",
    "        self.nn_cancer = torch.nn.Sequential(\n",
    "            torch.nn.Linear(self.backbone_dim, 1),\n",
    "        )\n",
    "        self.nn_aux = torch.nn.ModuleList([\n",
    "            torch.nn.Linear(self.backbone_dim, n) for n in aux_classes\n",
    "        ])\n",
    "\n",
    "    def forward(self, x):\n",
    "        # returns logits\n",
    "        x = self.model(x)\n",
    "\n",
    "        cancer = self.nn_cancer(x).squeeze()\n",
    "        aux = []\n",
    "        for nn in self.nn_aux:\n",
    "            aux.append(nn(x).squeeze())\n",
    "        return cancer, aux\n",
    "\n",
    "    def predict(self, x):\n",
    "        cancer, aux = self.forward(x)\n",
    "        sigaux = []\n",
    "        for a in aux:\n",
    "            sigaux.append(torch.softmax(a, dim=-1))\n",
    "        return torch.sigmoid(cancer), sigaux"
   ]
  },
  {
   "cell_type": "code",
   "execution_count": null,
   "metadata": {
    "execution": {
     "iopub.execute_input": "2023-02-19T02:04:53.660131Z",
     "iopub.status.busy": "2023-02-19T02:04:53.659803Z",
     "iopub.status.idle": "2023-02-19T02:04:53.669008Z",
     "shell.execute_reply": "2023-02-19T02:04:53.668012Z",
     "shell.execute_reply.started": "2023-02-19T02:04:53.660105Z"
    }
   },
   "outputs": [],
   "source": [
    "def load_model(path, model=None):\n",
    "    data = torch.load(path, map_location=DEVICE)\n",
    "    if model is None:\n",
    "        model = BreastCancerModel(aux_classes, data['model_type'])\n",
    "    model.load_state_dict(data['model'])\n",
    "    return model, data['threshold'], data['model_type']\n"
   ]
  },
  {
   "cell_type": "code",
   "execution_count": null,
   "metadata": {
    "execution": {
     "iopub.execute_input": "2023-02-19T02:04:53.670951Z",
     "iopub.status.busy": "2023-02-19T02:04:53.670500Z",
     "iopub.status.idle": "2023-02-19T02:05:12.676716Z",
     "shell.execute_reply": "2023-02-19T02:05:12.675702Z",
     "shell.execute_reply.started": "2023-02-19T02:04:53.670916Z"
    }
   },
   "outputs": [],
   "source": [
    "models = []\n",
    "thresholds = []\n",
    "MODELS_PATH = '/kaggle/input/efficientmodel/'\n",
    "for fname in tqdm(sorted(os.listdir(MODELS_PATH))):\n",
    "    model, thres, model_type = load_model(MODELS_PATH+fname)\n",
    "    model = model.to(DEVICE)\n",
    "    models.append((model, thres))\n",
    "    thresholds.append(thres)\n",
    "    print(f'fname:{fname}, model_type:{model_type}, thres:{thres}')"
   ]
  },
  {
   "cell_type": "code",
   "execution_count": null,
   "metadata": {
    "execution": {
     "iopub.execute_input": "2023-02-19T02:05:12.681696Z",
     "iopub.status.busy": "2023-02-19T02:05:12.680465Z",
     "iopub.status.idle": "2023-02-19T02:05:12.692579Z",
     "shell.execute_reply": "2023-02-19T02:05:12.689872Z",
     "shell.execute_reply.started": "2023-02-19T02:05:12.681658Z"
    }
   },
   "outputs": [],
   "source": [
    "use_TTA = True\n",
    "top3 = False\n",
    "geomeanpatient = False\n",
    "geomeanpredict =False"
   ]
  },
  {
   "cell_type": "code",
   "execution_count": null,
   "metadata": {
    "execution": {
     "iopub.execute_input": "2023-02-19T02:05:12.697077Z",
     "iopub.status.busy": "2023-02-19T02:05:12.696433Z",
     "iopub.status.idle": "2023-02-19T02:05:12.718186Z",
     "shell.execute_reply": "2023-02-19T02:05:12.717092Z",
     "shell.execute_reply.started": "2023-02-19T02:05:12.697040Z"
    }
   },
   "outputs": [],
   "source": [
    "def models_predict(models, ds, max_batches=1e9):\n",
    "    dl_test = torch.utils.data.DataLoader(ds, batch_size=16, shuffle=False, num_workers=os.cpu_count())\n",
    "    for m, thres in models:\n",
    "        m.eval()\n",
    "\n",
    "    with torch.no_grad():\n",
    "        predictions = []\n",
    "        for idx, X in enumerate(tqdm(dl_test, mininterval=30)):\n",
    "            pred = torch.zeros(len(X), len(models))\n",
    "            for idx, (m, thres) in enumerate(models):\n",
    "                X = X.to(DEVICE)\n",
    "                pred1 = m.predict(X)[0].squeeze()\n",
    "                if use_TTA:\n",
    "                    pred2 = model.predict(torch.flip(X, dims=[-1]))[0].squeeze()\n",
    "                    preds = (pred1 + pred2) / 2\n",
    "                else: preds = pred1\n",
    "                pred[:, idx] = preds.cpu()\n",
    "            if geomeanpredict:\n",
    "                predictions.append(pred.prod(dim=-1)**(1/pred.shape[-1]))\n",
    "            else:\n",
    "                predictions.append(pred.mean(dim=-1))\n",
    "            if idx >= max_batches:\n",
    "                break\n",
    "        return torch.concat(predictions).numpy()"
   ]
  },
  {
   "cell_type": "code",
   "execution_count": null,
   "metadata": {
    "execution": {
     "iopub.execute_input": "2023-02-19T02:05:12.726226Z",
     "iopub.status.busy": "2023-02-19T02:05:12.723444Z",
     "iopub.status.idle": "2023-02-19T02:05:12.733183Z",
     "shell.execute_reply": "2023-02-19T02:05:12.732139Z",
     "shell.execute_reply.started": "2023-02-19T02:05:12.726190Z"
    }
   },
   "outputs": [],
   "source": [
    "thresmax = np.max(thresholds)\n",
    "thresmean = np.mean(thresholds)"
   ]
  },
  {
   "cell_type": "code",
   "execution_count": null,
   "metadata": {
    "execution": {
     "iopub.execute_input": "2023-02-19T02:05:12.740802Z",
     "iopub.status.busy": "2023-02-19T02:05:12.738507Z",
     "iopub.status.idle": "2023-02-19T02:05:19.439518Z",
     "shell.execute_reply": "2023-02-19T02:05:19.433229Z",
     "shell.execute_reply.started": "2023-02-19T02:05:12.740767Z"
    }
   },
   "outputs": [],
   "source": [
    "#ds_test = BreastCancerDataSet(df, save_path, get_transforms(False))\n",
    "ds_test = BreastCancerDataSet(df, save_path, aug_resize_norm)\n",
    "models_pred = models_predict(models, ds_test)\n",
    "models_pred"
   ]
  },
  {
   "cell_type": "code",
   "execution_count": null,
   "metadata": {
    "execution": {
     "iopub.execute_input": "2023-02-19T02:05:19.441874Z",
     "iopub.status.busy": "2023-02-19T02:05:19.441059Z",
     "iopub.status.idle": "2023-02-19T02:05:19.472897Z",
     "shell.execute_reply": "2023-02-19T02:05:19.471983Z",
     "shell.execute_reply.started": "2023-02-19T02:05:19.441644Z"
    }
   },
   "outputs": [],
   "source": [
    "df['cancer'] = models_pred\n",
    "\n",
    "\n",
    "df_sub = df.groupby('prediction_id')[['cancer']].mean()\n",
    "df_sub"
   ]
  },
  {
   "cell_type": "code",
   "execution_count": null,
   "metadata": {
    "execution": {
     "iopub.execute_input": "2023-02-19T02:12:05.390239Z",
     "iopub.status.busy": "2023-02-19T02:12:05.389517Z",
     "iopub.status.idle": "2023-02-19T02:12:05.400218Z",
     "shell.execute_reply": "2023-02-19T02:12:05.398853Z",
     "shell.execute_reply.started": "2023-02-19T02:12:05.390203Z"
    }
   },
   "outputs": [],
   "source": [
    "if top3:\n",
    "    sup = df.groupby('patient_id')[['cancer']]\n",
    "    for key, val in sup:\n",
    "        ids = list(df.loc[df['patient_id'] == key]['prediction_id'])\n",
    "        top_3 = np.sort(list(df.loc[df['patient_id'] == key]['cancer']))[:-1].mean()\n",
    "        for idx in ids:\n",
    "            df_sub.loc[idx, 'cancer'] = top_3"
   ]
  },
  {
   "cell_type": "code",
   "execution_count": null,
   "metadata": {
    "execution": {
     "iopub.execute_input": "2023-02-19T02:05:19.505421Z",
     "iopub.status.busy": "2023-02-19T02:05:19.504717Z",
     "iopub.status.idle": "2023-02-19T02:05:19.522931Z",
     "shell.execute_reply": "2023-02-19T02:05:19.521960Z",
     "shell.execute_reply.started": "2023-02-19T02:05:19.505374Z"
    }
   },
   "outputs": [],
   "source": [
    "if geomeanpatient:\n",
    "    df_sup = df.groupby('prediction_id')\n",
    "    for key, val in df_sup:\n",
    "        arr = val['cancer'].to_numpy()\n",
    "        df_sub.loc[key, 'cancer'] = arr.prod()**(1.0/len(arr))\n",
    "df_sub"
   ]
  },
  {
   "cell_type": "code",
   "execution_count": null,
   "metadata": {
    "execution": {
     "iopub.execute_input": "2023-02-19T02:05:19.527711Z",
     "iopub.status.busy": "2023-02-19T02:05:19.526952Z",
     "iopub.status.idle": "2023-02-19T02:05:19.545065Z",
     "shell.execute_reply": "2023-02-19T02:05:19.544021Z",
     "shell.execute_reply.started": "2023-02-19T02:05:19.527672Z"
    }
   },
   "outputs": [],
   "source": [
    "df_sub['cancer'] = (df_sub.cancer > thresmean).astype(float)\n",
    "df_sub"
   ]
  },
  {
   "cell_type": "code",
   "execution_count": null,
   "metadata": {
    "execution": {
     "iopub.execute_input": "2023-02-19T02:05:19.551454Z",
     "iopub.status.busy": "2023-02-19T02:05:19.548830Z",
     "iopub.status.idle": "2023-02-19T02:05:20.856174Z",
     "shell.execute_reply": "2023-02-19T02:05:20.854784Z",
     "shell.execute_reply.started": "2023-02-19T02:05:19.551421Z"
    }
   },
   "outputs": [],
   "source": [
    "df_sub.to_csv('submission.csv', index=True)\n",
    "!head submission.csv"
   ]
  }
 ],
 "metadata": {
  "kernelspec": {
   "display_name": "Python 3 (ipykernel)",
   "language": "python",
   "name": "python3"
  },
  "language_info": {
   "codemirror_mode": {
    "name": "ipython",
    "version": 3
   },
   "file_extension": ".py",
   "mimetype": "text/x-python",
   "name": "python",
   "nbconvert_exporter": "python",
   "pygments_lexer": "ipython3",
   "version": "3.9.7"
  }
 },
 "nbformat": 4,
 "nbformat_minor": 4
}
